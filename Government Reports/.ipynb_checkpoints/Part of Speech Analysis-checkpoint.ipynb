{
 "cells": [
  {
   "cell_type": "markdown",
   "metadata": {},
   "source": [
    "Project: Determine if there are statistically significant differences in the types of words used by ethicists and scientists"
   ]
  },
  {
   "cell_type": "code",
   "execution_count": 10,
   "metadata": {},
   "outputs": [],
   "source": [
    "import pandas as pd\n",
    "import numpy as np\n",
    "import re\n",
    "import nltk\n",
    "from nltk.tokenize import word_tokenize\n",
    "from nltk import pos_tag\n",
    "from nltk.stem import WordNetLemmatizer\n",
    "from sklearn.preprocessing import LabelEncoder\n",
    "from matplotlib import pyplot as plt\n",
    "import seaborn as sns\n",
    "from collections import Counter"
   ]
  },
  {
   "cell_type": "code",
   "execution_count": 2,
   "metadata": {},
   "outputs": [
    {
     "data": {
      "text/html": [
       "<div>\n",
       "<style scoped>\n",
       "    .dataframe tbody tr th:only-of-type {\n",
       "        vertical-align: middle;\n",
       "    }\n",
       "\n",
       "    .dataframe tbody tr th {\n",
       "        vertical-align: top;\n",
       "    }\n",
       "\n",
       "    .dataframe thead th {\n",
       "        text-align: right;\n",
       "    }\n",
       "</style>\n",
       "<table border=\"1\" class=\"dataframe\">\n",
       "  <thead>\n",
       "    <tr style=\"text-align: right;\">\n",
       "      <th></th>\n",
       "      <th>type</th>\n",
       "      <th>sub-type</th>\n",
       "      <th>year</th>\n",
       "      <th>country</th>\n",
       "      <th>author</th>\n",
       "      <th>title</th>\n",
       "      <th>word_count</th>\n",
       "      <th>file_name</th>\n",
       "      <th>eth_or_sci</th>\n",
       "      <th>raw</th>\n",
       "      <th>no_nums</th>\n",
       "      <th>clean</th>\n",
       "      <th>tokens</th>\n",
       "    </tr>\n",
       "  </thead>\n",
       "  <tbody>\n",
       "    <tr>\n",
       "      <th>0</th>\n",
       "      <td>gov</td>\n",
       "      <td>unclear</td>\n",
       "      <td>2015</td>\n",
       "      <td>international</td>\n",
       "      <td>international summit on human genome editing</td>\n",
       "      <td>statement of the first summit on human genome ...</td>\n",
       "      <td>957</td>\n",
       "      <td>First Summit Statement.txt</td>\n",
       "      <td>2</td>\n",
       "      <td>On Human Gene Editing:\\nInternational Summit S...</td>\n",
       "      <td>On Human Gene Editing:\\nInternational Summit S...</td>\n",
       "      <td>on human gene editing international summit sta...</td>\n",
       "      <td>[on, human, gene, editing, international, summ...</td>\n",
       "    </tr>\n",
       "    <tr>\n",
       "      <th>1</th>\n",
       "      <td>gov</td>\n",
       "      <td>eth</td>\n",
       "      <td>2015</td>\n",
       "      <td>europe</td>\n",
       "      <td>council of europe committee on bioethics</td>\n",
       "      <td>statement on genome editing technologies</td>\n",
       "      <td>626</td>\n",
       "      <td>Council of Europe Bioethics.txt</td>\n",
       "      <td>0</td>\n",
       "      <td>\\n\\n \\n\\n \\n\\nStrasbourg, 2 December 2015 DH-...</td>\n",
       "      <td>\\n\\n \\n\\n \\n\\nStrasbourg,   December   DH-BIO...</td>\n",
       "      <td>strasbourg december dh bio inf coe logo fil b...</td>\n",
       "      <td>[strasbourg, december, dh, bio, inf, coe, logo...</td>\n",
       "    </tr>\n",
       "    <tr>\n",
       "      <th>2</th>\n",
       "      <td>gov</td>\n",
       "      <td>unclear</td>\n",
       "      <td>2015</td>\n",
       "      <td>germany</td>\n",
       "      <td>berlin-brandenburg academy of sciences and hum...</td>\n",
       "      <td>human genome surgery – towards a responsible e...</td>\n",
       "      <td>6502</td>\n",
       "      <td>Brandenburg.txt</td>\n",
       "      <td>2</td>\n",
       "      <td>HUMAN GENOME SURGERY � \\nTOWARDS A RESPONSIBLE...</td>\n",
       "      <td>HUMAN GENOME SURGERY � \\nTOWARDS A RESPONSIBLE...</td>\n",
       "      <td>human genome surgery towards a responsible eva...</td>\n",
       "      <td>[human, genome, surgery, towards, a, responsib...</td>\n",
       "    </tr>\n",
       "    <tr>\n",
       "      <th>3</th>\n",
       "      <td>gov</td>\n",
       "      <td>sci</td>\n",
       "      <td>2015</td>\n",
       "      <td>germany</td>\n",
       "      <td>german national academy of sciences</td>\n",
       "      <td>statement. The opportunities and limits of gen...</td>\n",
       "      <td>4761</td>\n",
       "      <td>Leopoldina.txt</td>\n",
       "      <td>1</td>\n",
       "      <td>The opportunities and limits of genome editinT...</td>\n",
       "      <td>The opportunities and limits of genome editinT...</td>\n",
       "      <td>the opportunities and limits of genome editint...</td>\n",
       "      <td>[the, opportunities, and, limits, of, genome, ...</td>\n",
       "    </tr>\n",
       "    <tr>\n",
       "      <th>4</th>\n",
       "      <td>gov</td>\n",
       "      <td>eth</td>\n",
       "      <td>2015</td>\n",
       "      <td>international</td>\n",
       "      <td>unesco international bioethics committee</td>\n",
       "      <td>report of the ibc on updating its reflection o...</td>\n",
       "      <td>17046</td>\n",
       "      <td>UNESCO.txt</td>\n",
       "      <td>0</td>\n",
       "      <td>\\n\\nDistribution: limited \\n\\nSHS/YES/IBC-22/...</td>\n",
       "      <td>\\n\\nDistribution: limited \\n\\nSHS/YES/IBC- / ...</td>\n",
       "      <td>distribution limited shs yes ibc rev paris oc...</td>\n",
       "      <td>[distribution, limited, shs, yes, ibc, rev, pa...</td>\n",
       "    </tr>\n",
       "  </tbody>\n",
       "</table>\n",
       "</div>"
      ],
      "text/plain": [
       "  type sub-type  year        country  \\\n",
       "0  gov  unclear  2015  international   \n",
       "1  gov      eth  2015         europe   \n",
       "2  gov  unclear  2015        germany   \n",
       "3  gov      sci  2015        germany   \n",
       "4  gov      eth  2015  international   \n",
       "\n",
       "                                              author  \\\n",
       "0       international summit on human genome editing   \n",
       "1           council of europe committee on bioethics   \n",
       "2  berlin-brandenburg academy of sciences and hum...   \n",
       "3                german national academy of sciences   \n",
       "4           unesco international bioethics committee   \n",
       "\n",
       "                                               title  word_count  \\\n",
       "0  statement of the first summit on human genome ...         957   \n",
       "1           statement on genome editing technologies         626   \n",
       "2  human genome surgery – towards a responsible e...        6502   \n",
       "3  statement. The opportunities and limits of gen...        4761   \n",
       "4  report of the ibc on updating its reflection o...       17046   \n",
       "\n",
       "                         file_name  eth_or_sci  \\\n",
       "0       First Summit Statement.txt           2   \n",
       "1  Council of Europe Bioethics.txt           0   \n",
       "2                  Brandenburg.txt           2   \n",
       "3                   Leopoldina.txt           1   \n",
       "4                       UNESCO.txt           0   \n",
       "\n",
       "                                                 raw  \\\n",
       "0  On Human Gene Editing:\\nInternational Summit S...   \n",
       "1   \\n\\n \\n\\n \\n\\nStrasbourg, 2 December 2015 DH-...   \n",
       "2  HUMAN GENOME SURGERY � \\nTOWARDS A RESPONSIBLE...   \n",
       "3  The opportunities and limits of genome editinT...   \n",
       "4   \\n\\nDistribution: limited \\n\\nSHS/YES/IBC-22/...   \n",
       "\n",
       "                                             no_nums  \\\n",
       "0  On Human Gene Editing:\\nInternational Summit S...   \n",
       "1   \\n\\n \\n\\n \\n\\nStrasbourg,   December   DH-BIO...   \n",
       "2  HUMAN GENOME SURGERY � \\nTOWARDS A RESPONSIBLE...   \n",
       "3  The opportunities and limits of genome editinT...   \n",
       "4   \\n\\nDistribution: limited \\n\\nSHS/YES/IBC- / ...   \n",
       "\n",
       "                                               clean  \\\n",
       "0  on human gene editing international summit sta...   \n",
       "1   strasbourg december dh bio inf coe logo fil b...   \n",
       "2  human genome surgery towards a responsible eva...   \n",
       "3  the opportunities and limits of genome editint...   \n",
       "4   distribution limited shs yes ibc rev paris oc...   \n",
       "\n",
       "                                              tokens  \n",
       "0  [on, human, gene, editing, international, summ...  \n",
       "1  [strasbourg, december, dh, bio, inf, coe, logo...  \n",
       "2  [human, genome, surgery, towards, a, responsib...  \n",
       "3  [the, opportunities, and, limits, of, genome, ...  \n",
       "4  [distribution, limited, shs, yes, ibc, rev, pa...  "
      ]
     },
     "execution_count": 2,
     "metadata": {},
     "output_type": "execute_result"
    }
   ],
   "source": [
    "#NOTE: Text has not been lemmatized\n",
    "\n",
    "meta = pd.read_csv('metadata.csv')\n",
    "meta['eth_or_sci'] = [0 if r=='eth' else 1 if r=='sci' else 2 for r in meta['sub-type']]\n",
    "meta['raw'] = [open(x).read() for x in meta['file_name']]\n",
    "meta['no_nums'] = [re.sub('\\d+', ' ', y) for y in meta['raw']]\n",
    "meta['clean'] = [re.sub('\\W+', ' ', a).lower() for a in meta['no_nums']]\n",
    "meta['tokens'] = [nltk.word_tokenize(b) for b in meta['clean']]\n",
    "\n",
    "meta.head()"
   ]
  },
  {
   "cell_type": "code",
   "execution_count": 11,
   "metadata": {},
   "outputs": [
    {
     "name": "stdout",
     "output_type": "stream",
     "text": [
      "Counter({'NN': 50289, 'IN': 32518, 'JJ': 29946, 'DT': 23022, 'NNS': 19827, 'CC': 9578, 'VB': 8795, 'RB': 8759, 'VBN': 7203, 'TO': 6608, 'VBP': 6108, 'VBZ': 5903, 'VBG': 5479, 'MD': 3811, 'PRP': 3304, 'WDT': 2333, 'VBD': 2046, 'PRP$': 1289, 'WRB': 722, 'CD': 676, 'WP': 621, 'JJR': 465, 'RBR': 433, 'EX': 424, 'RP': 351, 'JJS': 259, 'PDT': 200, 'FW': 199, 'RBS': 112, 'NNP': 89, 'WP$': 52, 'SYM': 6, 'NNPS': 3, 'UH': 3, 'POS': 2})\n"
     ]
    }
   ],
   "source": [
    "eth_vals = meta[meta['eth_or_sci'] == 0].reset_index()\n",
    "sci_vals = meta[meta['eth_or_sci'] == 1].reset_index()\n",
    "\n",
    "eth_sentences = []\n",
    "sci_sentences = []\n",
    "for index in range(len(eth_vals)):\n",
    "    eth_sentences.extend(eth_vals['tokens'][index])\n",
    "for index in range(len(sci_vals)):\n",
    "    sci_sentences.extend(sci_vals['tokens'][index])\n",
    "    \n",
    "eth_sentences = nltk.pos_tag(eth_sentences)\n",
    "sci_sentences = nltk.pos_tag(sci_sentences)\n",
    "\n",
    "eth_counts = Counter(tag for word, tag in eth_sentences)\n",
    "sci_counts = Counter(tag for word, tag in sci_sentences)\n",
    "\n",
    "print(eth_counts)"
   ]
  },
  {
   "cell_type": "code",
   "execution_count": 15,
   "metadata": {},
   "outputs": [
    {
     "name": "stdout",
     "output_type": "stream",
     "text": [
      "[' strasbourg december dh bio inf coe logo fil bw final committee on bioethics dh bio th meeting december strasbourg statement on genome editing technologies adopted by the dh bio ', 'the development of new genome editing technologies such as crispr cas has given rise to important reaction in particular within the scientific community ']\n"
     ]
    }
   ],
   "source": [
    "def build_sentences(type):\n",
    "    sentences_list = []\n",
    "    if type == 'eth': \n",
    "        eth_vals = meta[meta['eth_or_sci'] == 0].reset_index()\n",
    "        for index in range(len(eth_vals)):\n",
    "            sentences = nltk.sent_tokenize(eth_vals['no_nums'][index])\n",
    "            for sentence in sentences: \n",
    "                sentence_clean = re.sub('\\W+', ' ', sentence).lower()\n",
    "                sentences_list.append(sentence_clean)\n",
    "        return sentences_list\n",
    "    if type == 'sci': \n",
    "        sci_vals = meta[meta['eth_or_sci'] == 1].reset_index()\n",
    "        for index in range(len(sci_vals)):\n",
    "            sentences = nltk.sent_tokenize(sci_vals['no_nums'][index])\n",
    "            for sentence in sentences: \n",
    "                sentence_clean = re.sub('\\W+', ' ', sentence).lower()\n",
    "                sentences_list.append(sentence_clean)\n",
    "        return sentences_list\n",
    "\n",
    "eth_sentences = build_sentences('eth')\n",
    "sci_sentences = build_sentences('sci')\n",
    "print(eth_sentences[:2])"
   ]
  },
  {
   "cell_type": "code",
   "execution_count": 30,
   "metadata": {},
   "outputs": [
    {
     "name": "stdout",
     "output_type": "stream",
     "text": [
      "8817\n",
      "11026\n"
     ]
    }
   ],
   "source": [
    "eth_tagged = []\n",
    "sci_tagged = []\n",
    "for sentence in eth_sentences: \n",
    "    if len(sentence) > 1:\n",
    "        eth_words = nltk.word_tokenize(sentence)\n",
    "        eth_tagged.append(nltk.pos_tag(eth_words))\n",
    "for sentence in sci_sentences:\n",
    "    if len(sentence) > 1:\n",
    "        sci_words = nltk.word_tokenize(sentence)\n",
    "        sci_tagged.append(nltk.pos_tag(sci_words))\n",
    "\n",
    "print(len(eth_tagged))\n",
    "print(len(sci_tagged))"
   ]
  },
  {
   "cell_type": "code",
   "execution_count": 44,
   "metadata": {},
   "outputs": [],
   "source": [
    "#Calculating a unique percentage value for each sentence and storing it in a list\n",
    "eth_adjectives = []\n",
    "sci_adjectives = []\n",
    "eth_preps = []\n",
    "sci_preps = []\n",
    "eth_nouns = []\n",
    "sci_nouns = []\n",
    "\n",
    "for sentence in eth_tagged:\n",
    "    counts = Counter(tag for word, tag in sentence)\n",
    "    eth_adjectives.append(counts['JJ']/len(sentence))\n",
    "    eth_preps.append(counts['IN']/len(sentence))\n",
    "    eth_nouns.append(counts['NN']/len(sentence))\n",
    "    \n",
    "for sentence in sci_tagged:\n",
    "    counts = Counter(tag for word, tag in sentence)\n",
    "    sci_adjectives.append(counts['JJ']/len(sentence))\n",
    "    sci_preps.append(counts['IN']/len(sentence))\n",
    "    sci_nouns.append(counts['NN']/len(sentence))"
   ]
  },
  {
   "cell_type": "code",
   "execution_count": 51,
   "metadata": {},
   "outputs": [
    {
     "data": {
      "text/plain": [
       "(0, 1)"
      ]
     },
     "execution_count": 51,
     "metadata": {},
     "output_type": "execute_result"
    },
    {
     "data": {
      "image/png": "[encoded data removed]",
      "text/plain": [
       "<Figure size 1296x360 with 3 Axes>"
      ]
     },
     "metadata": {
      "needs_background": "light"
     },
     "output_type": "display_data"
    }
   ],
   "source": [
    "plt.figure(figsize=(18,5))\n",
    "\n",
    "plt.subplot(1, 3, 1)\n",
    "sns.kdeplot(eth_adjectives, shade=True, color='red')\n",
    "sns.kdeplot(sci_adjectives, shade=True, color='blue')\n",
    "plt.xlim(0, 1)\n",
    "\n",
    "plt.subplot(1, 3, 2)\n",
    "sns.kdeplot(eth_preps, shade=True, color='red')\n",
    "sns.kdeplot(sci_preps, shade=True, color='blue')\n",
    "plt.xlim(0, 1)\n",
    "\n",
    "plt.subplot(1, 3, 3)\n",
    "sns.kdeplot(eth_nouns, shade=True, color='red')\n",
    "sns.kdeplot(sci_nouns, shade=True, color='blue')\n",
    "plt.xlim(0, 1)"
   ]
  },
  {
   "cell_type": "code",
   "execution_count": 49,
   "metadata": {},
   "outputs": [
    {
     "name": "stdout",
     "output_type": "stream",
     "text": [
      "0.12871534771011928 0.09582238551222406\n",
      "0.12294176069698488 0.10459560976753124\n",
      "The p-value of a 2-sample t-test in the frequency of adjectives is: 6.113016260210094e-05\n",
      "0.1244015079325788 0.07639843501946073\n",
      "0.10570648988983933 0.08091573285045074\n",
      "The p-value of a 2-sample t-test in the frequency of prepositions is: 2.701629382861632e-61\n",
      "0.2663091981500306 0.2015105329094478\n",
      "0.338110383603711 0.2601103392298713\n",
      "The p-value of a 2-sample t-test in the frequency of nouns is: 1.3179248341961172e-99\n"
     ]
    }
   ],
   "source": [
    "from scipy.stats import ttest_ind\n",
    "\n",
    "print(np.mean(eth_adjectives), np.std(eth_adjectives))\n",
    "print(np.mean(sci_adjectives), np.std(sci_adjectives))\n",
    "_, pval = ttest_ind(eth_adjectives, sci_adjectives)\n",
    "print('The p-value of a 2-sample t-test in the frequency of adjectives is: ' + str(pval))\n",
    "\n",
    "print(np.mean(eth_preps), np.std(eth_preps))\n",
    "print(np.mean(sci_preps), np.std(sci_preps))\n",
    "_, pval = ttest_ind(eth_preps, sci_preps)\n",
    "print('The p-value of a 2-sample t-test in the frequency of prepositions is: ' + str(pval))\n",
    "\n",
    "print(np.mean(eth_nouns), np.std(eth_nouns))\n",
    "print(np.mean(sci_nouns), np.std(sci_nouns))\n",
    "_, pval = ttest_ind(eth_nouns, sci_nouns)\n",
    "print('The p-value of a 2-sample t-test in the frequency of nouns is: ' + str(pval))"
   ]
  },
  {
   "cell_type": "code",
   "execution_count": null,
   "metadata": {},
   "outputs": [],
   "source": []
  }
 ],
 "metadata": {
  "kernelspec": {
   "display_name": "Python 3",
   "language": "python",
   "name": "python3"
  },
  "language_info": {
   "codemirror_mode": {
    "name": "ipython",
    "version": 3
   },
   "file_extension": ".py",
   "mimetype": "text/x-python",
   "name": "python",
   "nbconvert_exporter": "python",
   "pygments_lexer": "ipython3",
   "version": "3.7.3"
  }
 },
 "nbformat": 4,
 "nbformat_minor": 2
}
